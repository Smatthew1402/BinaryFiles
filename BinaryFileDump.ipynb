{
 "cells": [
  {
   "cell_type": "markdown",
   "id": "b4bfa426",
   "metadata": {},
   "source": [
    "# Binary Files\n",
    "Explore the reading and writing of binary files."
   ]
  },
  {
   "cell_type": "code",
   "execution_count": 11,
   "id": "f16a66a9",
   "metadata": {},
   "outputs": [],
   "source": [
    "# import anything?"
   ]
  },
  {
   "cell_type": "markdown",
   "id": "420aac4f",
   "metadata": {},
   "source": [
    "## Converting integers to bytes"
   ]
  },
  {
   "cell_type": "code",
   "execution_count": 12,
   "id": "ee8f4066",
   "metadata": {},
   "outputs": [],
   "source": [
    "# Writer and reader need to agree on the basics.\n",
    "\n",
    "# When writing a 2-byte int, we can write big (high-order byte, low-order byte)\n",
    "# or little (low-order byte, high-order byte). \n",
    "# People prefer big. Intel chips use little.\n",
    "BYTEORDER='big' \n",
    "\n",
    "# If our integers are small, we don't need 4 bytes for each one.\n",
    "BYTES_PER_INT = 2"
   ]
  },
  {
   "cell_type": "code",
   "execution_count": 13,
   "id": "52727a4b",
   "metadata": {},
   "outputs": [
    {
     "name": "stdout",
     "output_type": "stream",
     "text": [
      "Convert 10 to bytes, get <class 'bytes'> with value b'\\x00\\n'\n",
      "The high-order byte is hex(0). The low-order byte is ascii(10)=\\n.\n"
     ]
    }
   ],
   "source": [
    "# Convert an integer to a byte array.\n",
    "def int_to_bytes(number:int, bytes:int)->bytes:\n",
    "    value = int(number).to_bytes(length=bytes, byteorder=BYTEORDER)\n",
    "    return value\n",
    "\n",
    "# client\n",
    "bytes = int_to_bytes(10, BYTES_PER_INT)\n",
    "print('Convert 10 to bytes, get',type(bytes),'with value',str(bytes))\n",
    "print('The high-order byte is hex(0). The low-order byte is ascii(10)=\\\\n.')"
   ]
  },
  {
   "cell_type": "markdown",
   "id": "48aa3586",
   "metadata": {},
   "source": [
    "## Writing integers to a binary file"
   ]
  },
  {
   "cell_type": "code",
   "execution_count": 14,
   "id": "f17ddeb0",
   "metadata": {},
   "outputs": [
    {
     "name": "stdout",
     "output_type": "stream",
     "text": [
      "We just wrote integer 10 which in binary is 00001010\n",
      "We just wrote integer 11 which in binary is 00001011\n",
      "We just wrote integer 12 which in binary is 00001100\n",
      "We just wrote integer 13 which in binary is 00001101\n",
      "We just wrote integer 14 which in binary is 00001110\n"
     ]
    }
   ],
   "source": [
    "# Write a data file in binary mode.\n",
    "# Remember the byte layout! \n",
    "# Number of integers, number of bytes each, and byte order.\n",
    "BINARY_EXAMPLE = 'sample.dat'\n",
    "file_size = 0\n",
    "with open (BINARY_EXAMPLE, 'wb') as handle:\n",
    "    for i in range(10,15):\n",
    "        bytes = int_to_bytes(i, BYTES_PER_INT)\n",
    "        handle.write(bytes)   \n",
    "        file_size += 1\n",
    "        bin_str = format(i, '08b')\n",
    "        print('We just wrote integer', i, 'which in binary is', bin_str)"
   ]
  },
  {
   "cell_type": "markdown",
   "id": "ee088035",
   "metadata": {},
   "source": [
    "## Reading integers from a binary file"
   ]
  },
  {
   "cell_type": "code",
   "execution_count": 15,
   "id": "0ed45e16",
   "metadata": {},
   "outputs": [
    {
     "name": "stdout",
     "output_type": "stream",
     "text": [
      "We just reconstructed integer 10 from 2 bytes.\n",
      "We just reconstructed integer 11 from 2 bytes.\n",
      "We just reconstructed integer 12 from 2 bytes.\n",
      "We just reconstructed integer 13 from 2 bytes.\n",
      "We just reconstructed integer 14 from 2 bytes.\n"
     ]
    }
   ],
   "source": [
    "# Read the data file in binary mode.\n",
    "# We must engineer the writing process in reverse.\n",
    "# We get total garbage unless we recapitulate the exact byte layout.\n",
    "# Can we reconstruct the original data?\n",
    "handle = open (BINARY_EXAMPLE, 'rb')\n",
    "for x in range(file_size):\n",
    "    stored_data = handle.read(BYTES_PER_INT)\n",
    "    usable_data = int.from_bytes(stored_data, byteorder=BYTEORDER)\n",
    "    print('We just reconstructed integer', usable_data, 'from', BYTES_PER_INT, 'bytes.')\n",
    "handle.close()"
   ]
  },
  {
   "cell_type": "markdown",
   "id": "73d972fb",
   "metadata": {},
   "source": [
    "## Reading a binary file as bytes"
   ]
  },
  {
   "cell_type": "code",
   "execution_count": 16,
   "id": "2dbb7bef",
   "metadata": {},
   "outputs": [
    {
     "name": "stdout",
     "output_type": "stream",
     "text": [
      "This table shows the decimal, ASCII, and hex value of each byte:\n",
      "   0   10    0   11    0   12    0   13    0   14 \n",
      "   0    A    0    B    0    C    0    D    0    E "
     ]
    }
   ],
   "source": [
    "with open (BINARY_EXAMPLE, 'rb') as handle:\n",
    "    allbytes = handle.read()\n",
    "\n",
    "# Display the byte array.\n",
    "print('This table shows the decimal, ASCII, and hex value of each byte:')\n",
    "\n",
    "# First row: decimal\n",
    "for one_byte in allbytes:\n",
    "    print(\"%4d \" % (one_byte), end='')\n",
    "print()\n",
    "# Second row: hexadecimal\n",
    "for one_byte in allbytes:\n",
    "    hex_val = format(one_byte,'X')\n",
    "    print(\"%4s \" % (hex_val), end='')\n"
   ]
  },
  {
   "cell_type": "code",
   "execution_count": null,
   "id": "c766f31c",
   "metadata": {},
   "outputs": [],
   "source": []
  }
 ],
 "metadata": {
  "kernelspec": {
   "display_name": "Python 3.10.4 64-bit",
   "language": "python",
   "name": "python3"
  },
  "language_info": {
   "codemirror_mode": {
    "name": "ipython",
    "version": 3
   },
   "file_extension": ".py",
   "mimetype": "text/x-python",
   "name": "python",
   "nbconvert_exporter": "python",
   "pygments_lexer": "ipython3",
   "version": "3.10.4"
  },
  "vscode": {
   "interpreter": {
    "hash": "aee8b7b246df8f9039afb4144a1f6fd8d2ca17a180786b69acc140d282b71a49"
   }
  }
 },
 "nbformat": 4,
 "nbformat_minor": 5
}
