{
 "cells": [
  {
   "cell_type": "markdown",
   "id": "b93b0195",
   "metadata": {},
   "source": [
    "# Text files\n",
    "Explore the writing and reading of line-oriented text files."
   ]
  },
  {
   "cell_type": "code",
   "execution_count": 1,
   "id": "9b181aeb",
   "metadata": {},
   "outputs": [],
   "source": [
    "# do we need to import anything?"
   ]
  },
  {
   "cell_type": "markdown",
   "id": "de22a240",
   "metadata": {},
   "source": [
    "## ASCII example"
   ]
  },
  {
   "cell_type": "code",
   "execution_count": 2,
   "id": "3e32929b",
   "metadata": {},
   "outputs": [],
   "source": [
    "def show_ascii_for_uppercase_letters():\n",
    "    # Decimal values\n",
    "    for i in range(26):\n",
    "        dec_val = ord('A')+i\n",
    "        print(\"%2d \" % (dec_val), end='')\n",
    "    print()\n",
    "    # ASCII values\n",
    "    for i in range(26):\n",
    "        dec_val = ord('A')+i\n",
    "        asc_chr = chr(dec_val)\n",
    "        print(\"%2s \" % (asc_chr), end='')\n",
    "    print()\n",
    "    # Hexadecimal values\n",
    "    for i in range(26):\n",
    "        dec_val = ord('A')+i\n",
    "        hex_val = format(dec_val,'X')\n",
    "        print(\"%2s \" % (hex_val), end='')\n",
    "    print()"
   ]
  },
  {
   "cell_type": "code",
   "execution_count": 3,
   "id": "e13bce8c",
   "metadata": {},
   "outputs": [
    {
     "name": "stdout",
     "output_type": "stream",
     "text": [
      "Here are the English letters in upper case.\n",
      "The 3 rows show the ASCII value in decimal,\n",
      "the ASCII character itself,\n",
      "and the ASCII value in hexadecimal.\n",
      "65 66 67 68 69 70 71 72 73 74 75 76 77 78 79 80 81 82 83 84 85 86 87 88 89 90 \n",
      " A  B  C  D  E  F  G  H  I  J  K  L  M  N  O  P  Q  R  S  T  U  V  W  X  Y  Z \n",
      "41 42 43 44 45 46 47 48 49 4A 4B 4C 4D 4E 4F 50 51 52 53 54 55 56 57 58 59 5A \n"
     ]
    }
   ],
   "source": [
    "print(\"Here are the English letters in upper case.\")\n",
    "print(\"The 3 rows show the ASCII value in decimal,\")\n",
    "print(\"the ASCII character itself,\")\n",
    "print(\"and the ASCII value in hexadecimal.\")\n",
    "show_ascii_for_uppercase_letters()"
   ]
  },
  {
   "cell_type": "markdown",
   "id": "9718180c",
   "metadata": {},
   "source": [
    "## Writing a text file line-by-line"
   ]
  },
  {
   "cell_type": "code",
   "execution_count": 4,
   "id": "5a0c3a64",
   "metadata": {},
   "outputs": [],
   "source": [
    "# Write a text file using ASCII mode\n",
    "TEXT_EXAMPLE = 'sample.txt'\n",
    "with open (TEXT_EXAMPLE, 'w', encoding=\"utf-8\") as handle:\n",
    "    handle.write('A A.\\n')   # write some text plus a newline \n",
    "    handle.write('B B?\\n')\n",
    "    handle.write('C C!\\n')"
   ]
  },
  {
   "cell_type": "markdown",
   "id": "59bcd1bb",
   "metadata": {},
   "source": [
    "## Reading a text file line-by-line"
   ]
  },
  {
   "cell_type": "code",
   "execution_count": 5,
   "id": "7cd0fa4a",
   "metadata": {},
   "outputs": [
    {
     "name": "stdout",
     "output_type": "stream",
     "text": [
      "The line is A A. 2 words:  A and A.\n",
      "The line is B B? 2 words:  B and B?\n",
      "The line is C C! 2 words:  C and C!\n"
     ]
    }
   ],
   "source": [
    "# Read the file in text mode, one line at a time\n",
    "with open (TEXT_EXAMPLE, 'r') as handle:\n",
    "    for line in handle:\n",
    "        line = line.strip('\\n')  # remove newline because\n",
    "        print('The line is', line, end=' ')      # print adds its own newline\n",
    "        words = line.split(' ')\n",
    "        print(len(words), 'words: ', ' and '.join(words))"
   ]
  },
  {
   "cell_type": "markdown",
   "id": "d163fdc7",
   "metadata": {},
   "source": [
    "## Reading a text file as bytes"
   ]
  },
  {
   "cell_type": "code",
   "execution_count": 6,
   "id": "1552bae9",
   "metadata": {},
   "outputs": [
    {
     "name": "stdout",
     "output_type": "stream",
     "text": [
      "Our data structure is: <class 'bytes'>\n",
      "The data length is: 15\n",
      "Here are the raw bytes: b'A A.\\nB B?\\nC C!\\n'\n",
      "The unprintable newline is escaped as backslash+n.\n"
     ]
    }
   ],
   "source": [
    "# Read the file in binary mode as a byte array\n",
    "with open (TEXT_EXAMPLE, 'rb') as handle:\n",
    "    allbytes = handle.read()\n",
    "print('Our data structure is:',type(allbytes))\n",
    "print('The data length is:',len(allbytes))\n",
    "print('Here are the raw bytes:',repr(allbytes))\n",
    "print('The unprintable newline is escaped as backslash+n.')"
   ]
  },
  {
   "cell_type": "code",
   "execution_count": 7,
   "id": "280fcdc4",
   "metadata": {},
   "outputs": [
    {
     "name": "stdout",
     "output_type": "stream",
     "text": [
      "This table shows the decimal, ASCII, and hex value of each byte:\n",
      "  65   32   65   46   10   66   32   66   63   10   67   32   67   33   10 \n",
      "   A         A    . '\\n'    B         B    ? '\\n'    C         C    ! '\\n' \n",
      "  41   20   41   2E    A   42   20   42   3F    A   43   20   43   21    A "
     ]
    }
   ],
   "source": [
    "# Display the byte array.\n",
    "print('This table shows the decimal, ASCII, and hex value of each byte:')\n",
    "\n",
    "# First row: decimal\n",
    "for one_byte in allbytes:\n",
    "    print(\"%4d \" % (one_byte), end='')\n",
    "print()\n",
    "# Second row: ascii\n",
    "for one_byte in allbytes:\n",
    "    asc_chr = chr(one_byte)\n",
    "    if asc_chr.isprintable():\n",
    "        print(\"%4s \" % (asc_chr), end='')\n",
    "    else:\n",
    "        esc_chr = repr(asc_chr)\n",
    "        print(\"%4s \" % (esc_chr), end='')\n",
    "print()\n",
    "# Third row: hexadecimal\n",
    "for one_byte in allbytes:\n",
    "    hex_val = format(one_byte,'X')\n",
    "    print(\"%4s \" % (hex_val), end='')\n"
   ]
  },
  {
   "cell_type": "code",
   "execution_count": null,
   "id": "dab4afc9",
   "metadata": {},
   "outputs": [],
   "source": []
  }
 ],
 "metadata": {
  "kernelspec": {
   "display_name": "Python 3.10.4 64-bit",
   "language": "python",
   "name": "python3"
  },
  "language_info": {
   "codemirror_mode": {
    "name": "ipython",
    "version": 3
   },
   "file_extension": ".py",
   "mimetype": "text/x-python",
   "name": "python",
   "nbconvert_exporter": "python",
   "pygments_lexer": "ipython3",
   "version": "3.10.4"
  },
  "vscode": {
   "interpreter": {
    "hash": "aee8b7b246df8f9039afb4144a1f6fd8d2ca17a180786b69acc140d282b71a49"
   }
  }
 },
 "nbformat": 4,
 "nbformat_minor": 5
}
